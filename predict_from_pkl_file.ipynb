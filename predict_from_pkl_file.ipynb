{
 "cells": [
  {
   "cell_type": "code",
   "execution_count": 11,
   "id": "ab32e648",
   "metadata": {},
   "outputs": [],
   "source": [
    "import sklearn\n",
    "import pandas as pd\n",
    "import pickle\n",
    "import numpy as np"
   ]
  },
  {
   "cell_type": "code",
   "execution_count": 12,
   "id": "f0779428",
   "metadata": {},
   "outputs": [],
   "source": [
    "with open(\"LinearRegressionModelRoshni.pkl\", \"rb\") as f:\n",
    "    model = pickle.load(f)"
   ]
  },
  {
   "cell_type": "code",
   "execution_count": 13,
   "id": "c661c2a5",
   "metadata": {},
   "outputs": [],
   "source": [
    "company = \"Ford Figo\"\n",
    "car_model = \"Ford\"\n",
    "year =2012\n",
    "fuel_type = \"Diesel\"\n",
    "kms_driven =41000\n"
   ]
  },
  {
   "cell_type": "code",
   "execution_count": 14,
   "id": "32a4bc1b",
   "metadata": {},
   "outputs": [
    {
     "data": {
      "text/plain": [
       "array([172290.71912203])"
      ]
     },
     "execution_count": 14,
     "metadata": {},
     "output_type": "execute_result"
    }
   ],
   "source": [
    "model.predict(pd.DataFrame([[\"Ford Figo\", \"Ford\", 2012, 41000, \"Diesel\"]], columns = [\"name\",\"company\", \"year\", \"kms_driven\", \"fuel_type\"]))"
   ]
  },
  {
   "cell_type": "code",
   "execution_count": 15,
   "id": "a7825cca",
   "metadata": {},
   "outputs": [
    {
     "name": "stdout",
     "output_type": "stream",
     "text": [
      "Note: you may need to restart the kernel to use updated packages.\n"
     ]
    }
   ],
   "source": [
    "pip freeze > requirementsroshni.txt"
   ]
  },
  {
   "cell_type": "code",
   "execution_count": null,
   "id": "cc30f909",
   "metadata": {},
   "outputs": [],
   "source": []
  }
 ],
 "metadata": {
  "kernelspec": {
   "display_name": "Python 3",
   "language": "python",
   "name": "python3"
  },
  "language_info": {
   "codemirror_mode": {
    "name": "ipython",
    "version": 3
   },
   "file_extension": ".py",
   "mimetype": "text/x-python",
   "name": "python",
   "nbconvert_exporter": "python",
   "pygments_lexer": "ipython3",
   "version": "3.8.8"
  }
 },
 "nbformat": 4,
 "nbformat_minor": 5
}
